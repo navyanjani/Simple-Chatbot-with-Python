{
 "cells": [
  {
   "cell_type": "code",
   "execution_count": 1,
   "metadata": {},
   "outputs": [],
   "source": [
    "import nltk\n",
    "from nltk.stem import WordNetLemmatizer\n",
    "lemmatizer=WordNetLemmatizer()\n",
    "import pickle\n",
    "import numpy as np"
   ]
  },
  {
   "cell_type": "code",
   "execution_count": 2,
   "metadata": {},
   "outputs": [
    {
     "name": "stderr",
     "output_type": "stream",
     "text": [
      "Using TensorFlow backend.\n",
      "WARNING: Logging before flag parsing goes to stderr.\n",
      "W0215 11:45:23.398027 18984 deprecation_wrapper.py:119] From C:\\Users\\Navya\\Anaconda3\\lib\\site-packages\\keras\\backend\\tensorflow_backend.py:517: The name tf.placeholder is deprecated. Please use tf.compat.v1.placeholder instead.\n",
      "\n",
      "W0215 11:45:23.421360 18984 deprecation_wrapper.py:119] From C:\\Users\\Navya\\Anaconda3\\lib\\site-packages\\keras\\backend\\tensorflow_backend.py:4138: The name tf.random_uniform is deprecated. Please use tf.random.uniform instead.\n",
      "\n",
      "W0215 11:45:23.443923 18984 deprecation_wrapper.py:119] From C:\\Users\\Navya\\Anaconda3\\lib\\site-packages\\keras\\backend\\tensorflow_backend.py:131: The name tf.get_default_graph is deprecated. Please use tf.compat.v1.get_default_graph instead.\n",
      "\n",
      "W0215 11:45:23.446923 18984 deprecation_wrapper.py:119] From C:\\Users\\Navya\\Anaconda3\\lib\\site-packages\\keras\\backend\\tensorflow_backend.py:133: The name tf.placeholder_with_default is deprecated. Please use tf.compat.v1.placeholder_with_default instead.\n",
      "\n",
      "W0215 11:45:23.456935 18984 deprecation.py:506] From C:\\Users\\Navya\\Anaconda3\\lib\\site-packages\\keras\\backend\\tensorflow_backend.py:3445: calling dropout (from tensorflow.python.ops.nn_ops) with keep_prob is deprecated and will be removed in a future version.\n",
      "Instructions for updating:\n",
      "Please use `rate` instead of `keep_prob`. Rate should be set to `rate = 1 - keep_prob`.\n",
      "W0215 11:45:23.574698 18984 deprecation_wrapper.py:119] From C:\\Users\\Navya\\Anaconda3\\lib\\site-packages\\keras\\backend\\tensorflow_backend.py:174: The name tf.get_default_session is deprecated. Please use tf.compat.v1.get_default_session instead.\n",
      "\n",
      "W0215 11:45:23.642659 18984 deprecation_wrapper.py:119] From C:\\Users\\Navya\\Anaconda3\\lib\\site-packages\\keras\\optimizers.py:790: The name tf.train.Optimizer is deprecated. Please use tf.compat.v1.train.Optimizer instead.\n",
      "\n",
      "W0215 11:45:23.814573 18984 deprecation.py:323] From C:\\Users\\Navya\\Anaconda3\\lib\\site-packages\\tensorflow\\python\\ops\\math_grad.py:1250: add_dispatch_support.<locals>.wrapper (from tensorflow.python.ops.array_ops) is deprecated and will be removed in a future version.\n",
      "Instructions for updating:\n",
      "Use tf.where in 2.0, which has the same broadcast rule as np.where\n"
     ]
    }
   ],
   "source": [
    "from keras.models import load_model\n",
    "model=load_model('chatbot_model.h5')\n",
    "import json\n",
    "import random\n",
    "intents=json.loads(open('intents.json').read())\n",
    "words=pickle.load(open('words.pkl','rb'))\n",
    "classes=pickle.load(open('classes.pkl','rb'))"
   ]
  },
  {
   "cell_type": "code",
   "execution_count": 3,
   "metadata": {},
   "outputs": [],
   "source": [
    "def clean_up_sentence(sentence):\n",
    "    sentence_words=nltk.word_tokenize(sentence)\n",
    "    sentence_words=[lemmatizer.lemmatize(word.lower())for word in sentence_words]"
   ]
  },
  {
   "cell_type": "code",
   "execution_count": 4,
   "metadata": {},
   "outputs": [],
   "source": [
    "#return bag of array:0 or 1 for each word in bag that exist in the sentence\n",
    "def bow(sentence, words, show_details=True):\n",
    "    #tokenise the pattern\n",
    "    sentence_words=clean_up_sentence(sentence)\n",
    "    #bag of words: matrix of N words, vocabulary matrix\n",
    "    bag=[0]*len(words)\n",
    "    for s in sentence_words:\n",
    "        for i,w in enumerate(words):\n",
    "            if w==s:\n",
    "                #assign 1 if the current word is in the vocabulary position\n",
    "                bag[i]=1\n",
    "                if show_details:\n",
    "                    print(\"found in bag:%s\"%w)\n",
    "    return(np.array(bag))"
   ]
  },
  {
   "cell_type": "code",
   "execution_count": 5,
   "metadata": {},
   "outputs": [],
   "source": [
    "def predict_class(sentence,model):\n",
    "    #filter out predictions below a threshold\n",
    "    p=bow(sentence,words,show_details=False)\n",
    "    res=model.predict(np.array([p]))[0]\n",
    "    ERROR_THRESHOLD=0.25\n",
    "    results = [[i,r] for i,r in enumerate(res) if r>ERROR_THRESHOLD]\n",
    "    \n",
    "    #sort by strength of the probability\n",
    "    results.sort(key=lambda x: x[1],reverse=True)\n",
    "    return_list=[]\n",
    "    for r in results:\n",
    "        return_list.append({\"intent\":classes[r[0]],\"probability\": str(r[1])})\n",
    "    return return_list"
   ]
  },
  {
   "cell_type": "code",
   "execution_count": 6,
   "metadata": {},
   "outputs": [],
   "source": [
    "def getResponse(ints, intents_json):\n",
    "    tag = ints[0]['intent']\n",
    "    list_of_intents = intents_json['intents']\n",
    "    for i in list_of_intents:\n",
    "        if(i['tag']== tag):\n",
    "            result = random.choice(i['responses'])\n",
    "            break\n",
    "    return result"
   ]
  },
  {
   "cell_type": "code",
   "execution_count": 7,
   "metadata": {},
   "outputs": [],
   "source": [
    "def chatbot_response(msg):\n",
    "    ints=predict_class(msg,model)\n",
    "    res=getResponse(ints,intents)\n",
    "    return res"
   ]
  },
  {
   "cell_type": "code",
   "execution_count": 8,
   "metadata": {},
   "outputs": [],
   "source": [
    "#creating GUI using tkinter\n",
    "import tkinter\n",
    "from tkinter import *"
   ]
  },
  {
   "cell_type": "code",
   "execution_count": 9,
   "metadata": {},
   "outputs": [],
   "source": [
    "def send():\n",
    "    msg= EntryBox.get(\"1.0\",'end-1c').strip()\n",
    "    EntryBox.delete(\"0.0\",END)\n",
    "    \n",
    "    if msg !='':\n",
    "        ChatLog.config(state=NORMAL)\n",
    "        ChatLog.insert(END,\"You: \"+msg+'\\n\\n')\n",
    "        ChatLog.config(foreground=\"#442265\",font=(\"Verdana\",12))\n",
    "        \n",
    "        res=chatbot_response(msg)\n",
    "        ChatLog.insert(END,\"Bot: \"+ res +'\\n\\n')\n",
    "        \n",
    "        ChatLog.config(state=DISABLED)\n",
    "        ChatLog.yview(END)"
   ]
  },
  {
   "cell_type": "code",
   "execution_count": 10,
   "metadata": {},
   "outputs": [],
   "source": [
    "base=Tk()\n",
    "base.title('Hello')\n",
    "base.geometry(\"400x500\")\n",
    "base.resizable(width=FALSE,height=FALSE)\n",
    "\n",
    "\n",
    "#create chat window\n",
    "ChatLog=Text(base,bd=0,bg=\"white\",height=\"8\",width=\"50\",font=\"Arial\")\n",
    "\n",
    "ChatLog.config(state=DISABLED)"
   ]
  },
  {
   "cell_type": "code",
   "execution_count": 11,
   "metadata": {},
   "outputs": [],
   "source": [
    "#Bind scrollbar to chat window\n",
    "scrollbar=Scrollbar(base,command=ChatLog.yview,cursor=\"heart\")\n",
    "ChatLog['yscrollcommand']=scrollbar.set"
   ]
  },
  {
   "cell_type": "code",
   "execution_count": 12,
   "metadata": {},
   "outputs": [],
   "source": [
    "#create button to send the message\n",
    "SendButton=Button(base,font=(\"Verdana\",12,'bold'),text=\"Send\", width='12',height='5',\n",
    "                 bd=0,bg=\"#32de97\",activebackground=\"#3c9d9b\",fg='#ffffff',\n",
    "                 command=send)\n",
    "\n",
    "#create the box to enter the message\n",
    "EntryBox=Text(base,bd=0,bg='white',width='29',height='5',font='Arial')"
   ]
  },
  {
   "cell_type": "code",
   "execution_count": 13,
   "metadata": {},
   "outputs": [],
   "source": [
    "#Place all components on the screen\n",
    "scrollbar.place(x=376,y=6,height=386)\n",
    "ChatLog.place(x=6,y=6,height=386,width=370)\n",
    "EntryBox.place(x=128,y=401,height=90,width=265)\n",
    "SendButton.place(x=6,y=401,height=90)\n",
    "\n",
    "\n",
    "base.mainloop()"
   ]
  },
  {
   "cell_type": "code",
   "execution_count": null,
   "metadata": {},
   "outputs": [],
   "source": []
  }
 ],
 "metadata": {
  "kernelspec": {
   "display_name": "Python 3",
   "language": "python",
   "name": "python3"
  },
  "language_info": {
   "codemirror_mode": {
    "name": "ipython",
    "version": 3
   },
   "file_extension": ".py",
   "mimetype": "text/x-python",
   "name": "python",
   "nbconvert_exporter": "python",
   "pygments_lexer": "ipython3",
   "version": "3.7.5"
  }
 },
 "nbformat": 4,
 "nbformat_minor": 2
}
